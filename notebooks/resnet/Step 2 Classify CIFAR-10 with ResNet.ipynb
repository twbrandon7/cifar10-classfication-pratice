{
 "cells": [
  {
   "cell_type": "code",
   "execution_count": 1,
   "metadata": {},
   "outputs": [
    {
     "name": "stderr",
     "output_type": "stream",
     "text": [
      "/home/clx/projects/deep-learning/cifar10-classfication-pratice/venv/lib/python3.7/site-packages/tqdm/auto.py:22: TqdmWarning: IProgress not found. Please update jupyter and ipywidgets. See https://ipywidgets.readthedocs.io/en/stable/user_install.html\n",
      "  from .autonotebook import tqdm as notebook_tqdm\n"
     ]
    },
    {
     "name": "stdout",
     "output_type": "stream",
     "text": [
      "Token set!\n"
     ]
    }
   ],
   "source": [
    "import os\n",
    "import tempfile\n",
    "from typing import List, Tuple\n",
    "\n",
    "import mlflow\n",
    "import pytorch_lightning as pl\n",
    "import torch\n",
    "import torch.nn.functional as F\n",
    "import torchvision\n",
    "import torchvision.transforms as transforms\n",
    "from dotenv import load_dotenv\n",
    "from git import Diff, Repo\n",
    "from pytorch_lightning.callbacks import (\n",
    "    EarlyStopping,\n",
    "    LearningRateMonitor,\n",
    "    ModelCheckpoint,\n",
    ")\n",
    "from pytorch_lightning.loggers.mlflow import MLFlowLogger\n",
    "from torch import nn\n",
    "from torch.utils.data import DataLoader, random_split\n",
    "from torchmetrics.classification import MulticlassAccuracy\n",
    "\n",
    "from libs.models.resnet import ResNet\n",
    "\n",
    "load_dotenv(\"./.env\")\n",
    "\n",
    "if os.environ.get(\"MLFLOW_TRACKING_TOKEN\"):\n",
    "    print(\"Token set!\")"
   ]
  },
  {
   "cell_type": "code",
   "execution_count": 2,
   "metadata": {},
   "outputs": [
    {
     "name": "stdout",
     "output_type": "stream",
     "text": [
      "Files already downloaded and verified\n",
      "Files already downloaded and verified\n"
     ]
    }
   ],
   "source": [
    "transform = transforms.Compose([\n",
    "    transforms.RandomCrop(32, padding=4),\n",
    "    transforms.RandomHorizontalFlip(),\n",
    "    transforms.ToTensor(),\n",
    "    transforms.Normalize((0.5, 0.5, 0.5), (0.5, 0.5, 0.5)),\n",
    "])\n",
    "\n",
    "transform_val = transforms.Compose([\n",
    "    transforms.ToTensor(),\n",
    "    transforms.Normalize((0.5, 0.5, 0.5), (0.5, 0.5, 0.5)),\n",
    "])\n",
    "\n",
    "train_set = torchvision.datasets.CIFAR10(\n",
    "    root=\"./data\", train=True, download=True, transform=transform\n",
    ")\n",
    "train_size = int(len(train_set) * 0.8)\n",
    "val_size = len(train_set) - train_size\n",
    "train_set, val_set = torch.utils.data.random_split(\n",
    "    train_set, [train_size, val_size], generator=torch.Generator().manual_seed(42)\n",
    ")\n",
    "test_set = torchvision.datasets.CIFAR10(\n",
    "    root=\"./data\", train=False, download=True, transform=transform_val\n",
    ")\n",
    "\n",
    "classes = (\n",
    "    \"plane\",\n",
    "    \"car\",\n",
    "    \"bird\",\n",
    "    \"cat\",\n",
    "    \"deer\",\n",
    "    \"dog\",\n",
    "    \"frog\",\n",
    "    \"horse\",\n",
    "    \"ship\",\n",
    "    \"truck\",\n",
    ")"
   ]
  },
  {
   "cell_type": "code",
   "execution_count": 3,
   "metadata": {},
   "outputs": [],
   "source": [
    "class LitResNet(pl.LightningModule):\n",
    "    def __init__(self, num_classes=10):\n",
    "        super().__init__()\n",
    "        self.__num_classes = num_classes\n",
    "        self.resnet = ResNet.make_resnet101(num_classes=num_classes, init_kernel_size=3)\n",
    "        self.softmax = nn.Softmax(1)\n",
    "        self.__metric = MulticlassAccuracy(num_classes=num_classes)\n",
    "    \n",
    "    def forward(self, x) -> torch.Tensor:\n",
    "        out = self.resnet(x)\n",
    "        out = self.softmax(out)\n",
    "        return out\n",
    "    \n",
    "    def __get_dirty_files(self, repo: Repo) -> List[str]:\n",
    "        dirty_files = []\n",
    "        dirty_files += repo.untracked_files\n",
    "        dirty_files += [diff.b_path for diff in repo.index.diff(\"HEAD\", create_patch=True, R=True)]\n",
    "        dirty_files += [diff.b_path for diff in repo.index.diff(None)]\n",
    "        return dirty_files\n",
    "    \n",
    "    def __get_file_content(self, file_path: str) -> str:\n",
    "        with open(file_path, \"r\", encoding=\"utf-8\") as f:\n",
    "            text = f.read()\n",
    "        return text\n",
    "    \n",
    "    def __log_dirty_files(self, repo: Repo):\n",
    "        if not isinstance(self.logger, MLFlowLogger):\n",
    "            return\n",
    "        \n",
    "        dirty_files = self.__get_dirty_files(repo)\n",
    "\n",
    "        for dirty_file in dirty_files:\n",
    "            self.logger._mlflow_client.log_artifact(self.logger.run_id, dirty_file, os.path.join(\"uncommit-files\", dirty_file))\n",
    "        \n",
    "        comment = \"# Changes\\n\"\n",
    "        comment += \"- \\n\"\n",
    "        comment += \"# Uncommit files\\n\"\n",
    "        for dirty_file in dirty_files:\n",
    "            comment += \"- {}\\n\".format(dirty_file)\n",
    "        if len(dirty_files) == 0:\n",
    "            comment += \"(empty)\\n\"\n",
    "        comment += \"# Git info\\n\"\n",
    "        comment += \"- commit hash: {}\\n\".format(repo.head.commit.hexsha)\n",
    "        comment += \"- branch: {}\\n\".format(repo.active_branch.name)\n",
    "        comment += \"- repository: {}\\n\".format(repo.remotes[0].url)\n",
    "        \n",
    "        self.logger._mlflow_client.set_tag(self.logger.run_id, \"mlflow.note.content\", comment)\n",
    "    \n",
    "    def on_train_start(self):\n",
    "        if not isinstance(self.logger, MLFlowLogger):\n",
    "            return\n",
    "        run_id = self.logger.run_id\n",
    "        self.logger.log_hyperparams(self.hparams)\n",
    "        repo = Repo()\n",
    "        self.logger._mlflow_client.set_tag(run_id, \"mlflow.source.git.commit\", repo.head.commit.hexsha)\n",
    "        self.logger._mlflow_client.set_tag(run_id, \"mlflow.source.git.branch\", repo.active_branch.name)\n",
    "        remotes = repo.remotes\n",
    "        if len(remotes) >= 1:\n",
    "            self.logger._mlflow_client.set_tag(run_id, \"mlflow.source.git.repoURL\", repo.remotes[0].url)\n",
    "        \n",
    "        self.__log_dirty_files(repo)\n",
    "\n",
    "    def training_step(self, batch, batch_idx):\n",
    "        loss, acc = self._common_step(batch, batch_idx)\n",
    "        self.log_dict({\"loss\": loss, \"acc\": acc})\n",
    "        return loss\n",
    "\n",
    "    def validation_step(self, batch, batch_idx):\n",
    "        loss, acc = self._common_step(batch, batch_idx)\n",
    "        self.log_dict({\"val_loss\": loss, \"val_acc\": acc})\n",
    "\n",
    "    def predict_step(self, batch, batch_idx: int, dataloader_idx: int = 0) -> torch.Tensor:\n",
    "        X_common, y_common = batch[0], batch[1]\n",
    "        y_hat = self.forward(X_common)\n",
    "        return y_hat.argmax(dim=1)\n",
    "    \n",
    "    def _common_step(self, batch: Tuple[torch.Tensor, torch.Tensor], batch_idx: int):\n",
    "        X_common, y_common = batch[0], batch[1]\n",
    "        y_hat = self.forward(X_common)\n",
    "        y_common_one_hot = F.one_hot(y_common, num_classes=self.__num_classes)\n",
    "        loss = F.cross_entropy(y_hat.type(torch.FloatTensor), y_common_one_hot.type(torch.FloatTensor))\n",
    "        y_hat_cat = torch.argmax(y_hat, dim=1)\n",
    "        acc = self.__metric(y_hat_cat, y_common)\n",
    "        return loss, acc\n",
    "\n",
    "    def configure_optimizers(self):\n",
    "        optimizer = torch.optim.SGD(self.parameters(), lr=1e-1, momentum=0.9, weight_decay=1e-4)\n",
    "        scheduler = torch.optim.lr_scheduler.CosineAnnealingLR(optimizer, T_max=200)\n",
    "        return [optimizer], [{\"scheduler\": scheduler, \"interval\": \"epoch\"}]"
   ]
  },
  {
   "cell_type": "code",
   "execution_count": 4,
   "metadata": {},
   "outputs": [],
   "source": [
    "torch.set_float32_matmul_precision('medium')\n",
    "\n",
    "train_loader = DataLoader(train_set, shuffle=True, batch_size=256, num_workers=8)\n",
    "val_loader = DataLoader(val_set, shuffle=False, batch_size=256, num_workers=8)"
   ]
  },
  {
   "cell_type": "code",
   "execution_count": 5,
   "metadata": {},
   "outputs": [
    {
     "name": "stderr",
     "output_type": "stream",
     "text": [
      "Experiment with name cifar10-practice/resnet-101-32x32 not found. Creating it.\n",
      "GPU available: True (cuda), used: True\n",
      "TPU available: False, using: 0 TPU cores\n",
      "IPU available: False, using: 0 IPUs\n",
      "HPU available: False, using: 0 HPUs\n",
      "LOCAL_RANK: 0 - CUDA_VISIBLE_DEVICES: [0]\n",
      "\n",
      "  | Name               | Type               | Params\n",
      "----------------------------------------------------------\n",
      "0 | resnet             | ResNet             | 41.4 M\n",
      "1 | softmax            | Softmax            | 0     \n",
      "2 | _LitResNet__metric | MulticlassAccuracy | 0     \n",
      "----------------------------------------------------------\n",
      "41.4 M    Trainable params\n",
      "0         Non-trainable params\n",
      "41.4 M    Total params\n",
      "165.414   Total estimated model params size (MB)\n"
     ]
    },
    {
     "name": "stdout",
     "output_type": "stream",
     "text": [
      "Epoch 203: 100%|██████████| 197/197 [00:10<00:00, 18.70it/s, loss=1.59, v_num=d4c7]\n"
     ]
    }
   ],
   "source": [
    "mlf_logger = MLFlowLogger(experiment_name=\"cifar10-practice/resnet-101-32x32\", tracking_uri=os.environ.get(\"MLFLOW_TRACKING_URI\"), log_model=False)\n",
    "model = LitResNet()\n",
    "trainer = pl.Trainer(\n",
    "    max_epochs=500,\n",
    "    accelerator=\"gpu\",\n",
    "    logger=mlf_logger,\n",
    "    callbacks=[\n",
    "            ModelCheckpoint(\n",
    "                dirpath=os.path.join(\n",
    "                    \"lightning_logs/\", mlf_logger._experiment_name, mlf_logger.run_id\n",
    "                ),\n",
    "                save_top_k=2,\n",
    "                monitor=\"val_loss\",\n",
    "                mode=\"min\",\n",
    "                filename=\"checkpoint-{epoch:02d}-{val_loss:.5f}\",\n",
    "            ),\n",
    "            EarlyStopping(\"val_loss\", patience=10),\n",
    "            LearningRateMonitor('step', log_momentum=True)\n",
    "        ],\n",
    "    check_val_every_n_epoch=1,\n",
    ")\n",
    "trainer.fit(model=model, train_dataloaders=train_loader, val_dataloaders=val_loader)"
   ]
  },
  {
   "attachments": {},
   "cell_type": "markdown",
   "metadata": {},
   "source": [
    "## Validate using testing set"
   ]
  },
  {
   "attachments": {},
   "cell_type": "markdown",
   "metadata": {},
   "source": [
    "### ResNet-18"
   ]
  },
  {
   "cell_type": "code",
   "execution_count": 6,
   "metadata": {},
   "outputs": [
    {
     "name": "stderr",
     "output_type": "stream",
     "text": [
      "GPU available: True (cuda), used: True\n",
      "TPU available: False, using: 0 TPU cores\n",
      "IPU available: False, using: 0 IPUs\n",
      "HPU available: False, using: 0 HPUs\n",
      "/home/clx/projects/deep-learning/cifar10-classfication-pratice/venv/lib/python3.7/site-packages/pytorch_lightning/trainer/connectors/logger_connector/logger_connector.py:68: UserWarning: Starting from v1.9.0, `tensorboardX` has been removed as a dependency of the `pytorch_lightning` package, due to potential conflicts with other packages in the ML ecosystem. For this reason, `logger=True` will use `CSVLogger` as the default logger, unless the `tensorboard` or `tensorboardX` packages are found. Please `pip install lightning[extra]` or one of them to enable TensorBoard support by default\n",
      "  \"Starting from v1.9.0, `tensorboardX` has been removed as a dependency of the `pytorch_lightning`\"\n",
      "LOCAL_RANK: 0 - CUDA_VISIBLE_DEVICES: [0]\n"
     ]
    },
    {
     "name": "stdout",
     "output_type": "stream",
     "text": [
      "Validation DataLoader 0: 100%|██████████| 40/40 [00:00<00:00, 79.11it/s]\n",
      "────────────────────────────────────────────────────────────────────────────────────────────────────────────────────────\n",
      "     Validate metric           DataLoader 0\n",
      "────────────────────────────────────────────────────────────────────────────────────────────────────────────────────────\n",
      "         val_acc            0.8449007868766785\n",
      "        val_loss            1.6157256364822388\n",
      "────────────────────────────────────────────────────────────────────────────────────────────────────────────────────────\n"
     ]
    }
   ],
   "source": [
    "test_loader = DataLoader(test_set, shuffle=False, batch_size=256, num_workers=8)\n",
    "model = LitResNet.load_from_checkpoint(\"lightning_logs/cifar10-practice/resnet-18-32x32/68b3a17d3c174acc8f58e9502b83e00b/checkpoint-epoch=196-val_loss=1.61641.ckpt\")\n",
    "trainer = pl.Trainer(accelerator='gpu')\n",
    "predictions = trainer.validate(model, test_loader)"
   ]
  },
  {
   "attachments": {},
   "cell_type": "markdown",
   "metadata": {},
   "source": [
    "### ResNet-101"
   ]
  },
  {
   "cell_type": "code",
   "execution_count": 6,
   "metadata": {},
   "outputs": [
    {
     "name": "stderr",
     "output_type": "stream",
     "text": [
      "GPU available: True (cuda), used: True\n",
      "TPU available: False, using: 0 TPU cores\n",
      "IPU available: False, using: 0 IPUs\n",
      "HPU available: False, using: 0 HPUs\n",
      "/home/clx/projects/deep-learning/cifar10-classfication-pratice/venv/lib/python3.7/site-packages/pytorch_lightning/trainer/connectors/logger_connector/logger_connector.py:68: UserWarning: Starting from v1.9.0, `tensorboardX` has been removed as a dependency of the `pytorch_lightning` package, due to potential conflicts with other packages in the ML ecosystem. For this reason, `logger=True` will use `CSVLogger` as the default logger, unless the `tensorboard` or `tensorboardX` packages are found. Please `pip install lightning[extra]` or one of them to enable TensorBoard support by default\n",
      "  \"Starting from v1.9.0, `tensorboardX` has been removed as a dependency of the `pytorch_lightning`\"\n",
      "LOCAL_RANK: 0 - CUDA_VISIBLE_DEVICES: [0]\n"
     ]
    },
    {
     "name": "stdout",
     "output_type": "stream",
     "text": [
      "Validation DataLoader 0: 100%|██████████| 40/40 [00:01<00:00, 39.77it/s]\n",
      "────────────────────────────────────────────────────────────────────────────────────────────────────────────────────────\n",
      "     Validate metric           DataLoader 0\n",
      "────────────────────────────────────────────────────────────────────────────────────────────────────────────────────────\n",
      "         val_acc            0.8277215957641602\n",
      "        val_loss            1.6315324306488037\n",
      "────────────────────────────────────────────────────────────────────────────────────────────────────────────────────────\n"
     ]
    }
   ],
   "source": [
    "test_loader = DataLoader(test_set, shuffle=False, batch_size=256, num_workers=8)\n",
    "model = LitResNet.load_from_checkpoint(\"lightning_logs/cifar10-practice/resnet-101-32x32/1d34933a8b1a4defa7f17e98562fd4c7/checkpoint-epoch=193-val_loss=1.63769.ckpt\")\n",
    "trainer = pl.Trainer(accelerator='gpu')\n",
    "predictions = trainer.validate(model, test_loader)"
   ]
  },
  {
   "cell_type": "code",
   "execution_count": null,
   "metadata": {},
   "outputs": [],
   "source": []
  }
 ],
 "metadata": {
  "kernelspec": {
   "display_name": "Python 3 (ipykernel)",
   "language": "python",
   "name": "python3"
  },
  "language_info": {
   "codemirror_mode": {
    "name": "ipython",
    "version": 3
   },
   "file_extension": ".py",
   "mimetype": "text/x-python",
   "name": "python",
   "nbconvert_exporter": "python",
   "pygments_lexer": "ipython3",
   "version": "3.7.15"
  },
  "vscode": {
   "interpreter": {
    "hash": "837a5f52c2230bada333347f7e9bc871154c4fb5382540e20ee0171436c86313"
   }
  }
 },
 "nbformat": 4,
 "nbformat_minor": 4
}
