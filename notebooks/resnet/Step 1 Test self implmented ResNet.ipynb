{
 "cells": [
  {
   "attachments": {},
   "cell_type": "markdown",
   "metadata": {},
   "source": [
    "Test self-implemented ResNet models. For the reason why I re-implement ResNet, please\n",
    "see `libs.models.resnet`."
   ]
  },
  {
   "cell_type": "code",
   "execution_count": 1,
   "metadata": {},
   "outputs": [
    {
     "name": "stderr",
     "output_type": "stream",
     "text": [
      "/home/clx/projects/deep-learning/cifar10-classfication-pratice/venv/lib/python3.7/site-packages/tqdm/auto.py:22: TqdmWarning: IProgress not found. Please update jupyter and ipywidgets. See https://ipywidgets.readthedocs.io/en/stable/user_install.html\n",
      "  from .autonotebook import tqdm as notebook_tqdm\n"
     ]
    }
   ],
   "source": [
    "import torch\n",
    "from torch import nn\n",
    "import torchvision\n",
    "import torchvision.transforms as transforms\n",
    "import numpy as np\n",
    "from PIL import Image\n",
    "\n",
    "from libs.models.resnet import ResNet"
   ]
  },
  {
   "attachments": {},
   "cell_type": "markdown",
   "metadata": {},
   "source": [
    "Proof that the self-implemented version of ResNet is identical to the pytorch built-in model."
   ]
  },
  {
   "cell_type": "code",
   "execution_count": 2,
   "metadata": {},
   "outputs": [
    {
     "name": "stdout",
     "output_type": "stream",
     "text": [
      "Two models are identical.\n"
     ]
    }
   ],
   "source": [
    "resnet = ResNet.make_resnet18(10)\n",
    "resnet_ori = torchvision.models.ResNet(torchvision.models.resnet.BasicBlock, [2, 2, 2, 2], 10)\n",
    "\n",
    "flag_different = False\n",
    "for (n1, p1), (n2, p2) in zip(resnet.named_parameters(), resnet_ori.named_parameters()):\n",
    "    if p1.size() != p2.size():\n",
    "        flag_different = True\n",
    "        break\n",
    "\n",
    "if flag_different:\n",
    "    raise Exception(\"Two models are not identical.\")\n",
    "else:\n",
    "    print(\"Two models are identical.\")"
   ]
  },
  {
   "attachments": {},
   "cell_type": "markdown",
   "metadata": {},
   "source": [
    "Run the self-implemented model for testing."
   ]
  },
  {
   "cell_type": "code",
   "execution_count": 3,
   "metadata": {},
   "outputs": [
    {
     "data": {
      "text/plain": [
       "tensor([[-0.5548, -0.4115, -0.1389, -0.2831, -0.1696,  0.4623,  0.3616,  0.1232,\n",
       "          0.4944,  0.1456],\n",
       "        [-0.3215, -0.0894,  0.2850,  0.5918, -0.4268,  0.7596,  0.5146,  0.1531,\n",
       "         -0.2377, -0.1255],\n",
       "        [-0.6762, -1.2966,  0.1408,  0.2616,  0.0466,  0.1078,  0.2966,  0.3645,\n",
       "         -0.0714, -0.0775],\n",
       "        [-0.2356,  0.0014,  0.2276,  0.2469, -0.2372,  0.4808,  0.2287,  0.8208,\n",
       "          0.1635,  0.3746],\n",
       "        [-0.4932, -0.0779, -0.1026,  0.2825, -0.2175,  0.1204,  0.6633,  0.5851,\n",
       "          0.4210,  0.0791],\n",
       "        [ 0.0151, -1.0856,  0.2241,  0.4727,  0.0396,  0.6296,  0.7116,  0.9440,\n",
       "          0.8056,  0.4021],\n",
       "        [-0.3994, -0.2544,  0.3355,  0.3875, -0.2821,  0.3720,  0.1096,  0.1705,\n",
       "          0.5432, -0.2086],\n",
       "        [-0.7231, -0.3039,  0.5045, -0.3811,  0.1033,  0.2052,  0.5621,  0.3010,\n",
       "         -0.0134, -0.0479],\n",
       "        [-0.5354, -0.2594,  0.3958,  0.0047, -0.0433,  0.2814,  0.5826,  0.9028,\n",
       "          0.3260,  0.3085],\n",
       "        [-0.3721,  0.0639,  0.6732,  0.1739, -0.1087,  0.0503,  0.4885,  0.5831,\n",
       "         -0.1428,  0.3001]], grad_fn=<AddmmBackward0>)"
      ]
     },
     "execution_count": 3,
     "metadata": {},
     "output_type": "execute_result"
    }
   ],
   "source": [
    "model = ResNet.make_resnet18(num_classes=10, init_kernel_size=3)\n",
    "model(torch.rand(10, 3, 32, 32))"
   ]
  },
  {
   "cell_type": "code",
   "execution_count": null,
   "metadata": {},
   "outputs": [],
   "source": []
  }
 ],
 "metadata": {
  "kernelspec": {
   "display_name": "venv",
   "language": "python",
   "name": "python3"
  },
  "language_info": {
   "codemirror_mode": {
    "name": "ipython",
    "version": 3
   },
   "file_extension": ".py",
   "mimetype": "text/x-python",
   "name": "python",
   "nbconvert_exporter": "python",
   "pygments_lexer": "ipython3",
   "version": "3.7.15"
  },
  "orig_nbformat": 4,
  "vscode": {
   "interpreter": {
    "hash": "837a5f52c2230bada333347f7e9bc871154c4fb5382540e20ee0171436c86313"
   }
  }
 },
 "nbformat": 4,
 "nbformat_minor": 2
}
